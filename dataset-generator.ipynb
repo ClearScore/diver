{
 "cells": [
  {
   "cell_type": "markdown",
   "metadata": {},
   "source": [
    "### Import Libraries"
   ]
  },
  {
   "cell_type": "code",
   "execution_count": 1,
   "metadata": {},
   "outputs": [],
   "source": [
    "import pandas as pd\n",
    "import numpy as np\n",
    "import datetime as dt"
   ]
  },
  {
   "cell_type": "code",
   "execution_count": 2,
   "metadata": {},
   "outputs": [],
   "source": [
    "# Define number of samples for each feature vector\n",
    "m_samples = 20"
   ]
  },
  {
   "cell_type": "markdown",
   "metadata": {},
   "source": [
    "#### Generate numeric columns "
   ]
  },
  {
   "cell_type": "code",
   "execution_count": 3,
   "metadata": {},
   "outputs": [],
   "source": [
    "numeric_1 = 50 * np.random.random(size=(m_samples,1))\n",
    "numeric_1 = pd.Series(numeric_1.flatten())"
   ]
  },
  {
   "cell_type": "code",
   "execution_count": 4,
   "metadata": {},
   "outputs": [],
   "source": [
    "numeric_2 = m_samples * np.random.random(size=(m_samples,1))\n",
    "numeric_2 = pd.Series(numeric_2.flatten())"
   ]
  },
  {
   "cell_type": "code",
   "execution_count": 5,
   "metadata": {},
   "outputs": [],
   "source": [
    "numeric_3 = m_samples * np.random.random(size=(m_samples,1))\n",
    "numeric_3 = pd.Series(numeric_3.flatten())"
   ]
  },
  {
   "cell_type": "markdown",
   "metadata": {},
   "source": [
    "##### Add NaNs to `numeric_2` and `numeric_3`"
   ]
  },
  {
   "cell_type": "code",
   "execution_count": 6,
   "metadata": {},
   "outputs": [],
   "source": [
    "random_ints = np.random.random(size=m_samples).flatten()"
   ]
  },
  {
   "cell_type": "code",
   "execution_count": 7,
   "metadata": {},
   "outputs": [],
   "source": [
    "numeric_2.loc[random_ints < 0.2] = np.nan"
   ]
  },
  {
   "cell_type": "code",
   "execution_count": 8,
   "metadata": {},
   "outputs": [],
   "source": [
    "random_ints = np.random.random(size=m_samples).flatten()\n",
    "numeric_3.loc[random_ints < 0.8] = np.nan"
   ]
  },
  {
   "cell_type": "markdown",
   "metadata": {},
   "source": [
    "#### Generate datetime columns "
   ]
  },
  {
   "cell_type": "code",
   "execution_count": 9,
   "metadata": {},
   "outputs": [],
   "source": [
    "datetimes_1 = pd.date_range(dt.datetime.now(), periods=m_samples, freq='1703587S')\n",
    "datetimes_1 = pd.Series(datetimes_1).sample(frac=1)\n",
    "datetimes_1 = datetimes_1.reset_index().drop('index', axis=1)"
   ]
  },
  {
   "cell_type": "code",
   "execution_count": 10,
   "metadata": {},
   "outputs": [],
   "source": [
    "datetime = dt.datetime(year=2000, month=3, day=21, hour=22, minute=2, second=23)\n",
    "datetimes_2 = pd.date_range(datetime, periods=m_samples, freq='21173587S')\n",
    "datetimes_2 = pd.Series(datetimes_2).sample(frac=1)\n",
    "datetimes_2 = datetimes_2.reset_index().drop('index', axis=1)"
   ]
  },
  {
   "cell_type": "code",
   "execution_count": 11,
   "metadata": {},
   "outputs": [
    {
     "data": {
      "text/plain": [
       "2"
      ]
     },
     "execution_count": 11,
     "metadata": {},
     "output_type": "execute_result"
    }
   ],
   "source": [
    "datetimes_1.iloc[0,0].weekday()"
   ]
  },
  {
   "cell_type": "markdown",
   "metadata": {},
   "source": [
    "#### Generate boolean-like columns"
   ]
  },
  {
   "cell_type": "code",
   "execution_count": 12,
   "metadata": {},
   "outputs": [],
   "source": [
    "# Generate array of random ints from 0 to 1\n",
    "random_ints = np.random.random(size=m_samples).flatten()\n",
    "\n",
    "# Initialise Series\n",
    "boolean_like = pd.Series(random_ints)\n",
    "\n",
    "# Assign str True and False values to \n",
    "boolean_like[random_ints >= 0.5] = 'True'\n",
    "boolean_like[random_ints < 0.5] = 'False'"
   ]
  },
  {
   "cell_type": "code",
   "execution_count": 13,
   "metadata": {},
   "outputs": [],
   "source": [
    "# Generate array of random ints from 0 to 1\n",
    "random_ints = np.random.random(size=m_samples).flatten()\n",
    "\n",
    "# Initialise Series\n",
    "boolean_like_2 = pd.Series(random_ints)\n",
    "\n",
    "# Assign str True and False values to \n",
    "boolean_like_2[random_ints >= 0.5] = 'true'\n",
    "boolean_like_2[random_ints < 0.5] = 'false'"
   ]
  },
  {
   "cell_type": "code",
   "execution_count": 14,
   "metadata": {},
   "outputs": [],
   "source": [
    "# Generate array of random ints from 0 to 1\n",
    "random_ints = np.random.random(size=m_samples).flatten()\n",
    "\n",
    "# Initialise Series\n",
    "boolean_like_3 = pd.Series(random_ints)\n",
    "\n",
    "# Assign str True and False values to \n",
    "boolean_like_3[random_ints >= 0.5] = 'TRUE'\n",
    "boolean_like_3[random_ints < 0.5] = 'FALSE'"
   ]
  },
  {
   "cell_type": "code",
   "execution_count": 15,
   "metadata": {},
   "outputs": [],
   "source": [
    "# Generate array of random ints from 0 to 1\n",
    "random_ints = np.random.random(size=m_samples).flatten()\n",
    "\n",
    "# Initialise Series\n",
    "boolean_like_4 = pd.Series(random_ints)\n",
    "\n",
    "# Assign str True and False values to \n",
    "boolean_like_4[random_ints >= 0.5] = 'TRUE'\n",
    "boolean_like_4[random_ints < 0.5] = 'False'\n",
    "boolean_like_4[random_ints >= 0.8] = 'True'"
   ]
  },
  {
   "cell_type": "markdown",
   "metadata": {},
   "source": [
    "#### Generate true Boolean column"
   ]
  },
  {
   "cell_type": "code",
   "execution_count": 16,
   "metadata": {},
   "outputs": [],
   "source": [
    "# Generate array of random ints from 0 to 1\n",
    "random_ints = np.random.random(size=m_samples).flatten()\n",
    "\n",
    "# Initialise Series\n",
    "boolean = pd.Series(random_ints)\n",
    "\n",
    "# Assign str True and False values to \n",
    "boolean[random_ints >= 0.5] = True\n",
    "boolean[random_ints < 0.5] = False"
   ]
  },
  {
   "cell_type": "markdown",
   "metadata": {},
   "source": [
    "#### Generate nominal column"
   ]
  },
  {
   "cell_type": "code",
   "execution_count": 17,
   "metadata": {},
   "outputs": [],
   "source": [
    "# Generate array of random ints from 0 to 1\n",
    "random_ints = np.random.random(size=m_samples).flatten()\n",
    "\n",
    "# Initialise Series\n",
    "nominal = pd.Series(random_ints)\n",
    "\n",
    "# Assign str True and False values to \n",
    "nominal[random_ints >= 0.33] = 'Cat'\n",
    "nominal[random_ints < 0.33] = 'Dog'\n",
    "nominal[random_ints > 0.67] = 'Lizard'"
   ]
  },
  {
   "cell_type": "markdown",
   "metadata": {},
   "source": [
    "#### Generate ordinal column"
   ]
  },
  {
   "cell_type": "code",
   "execution_count": 18,
   "metadata": {},
   "outputs": [],
   "source": [
    "# Generate array of random ints from 0 to 1\n",
    "random_ints = np.random.random(size=m_samples).flatten()\n",
    "\n",
    "# Initialise Series\n",
    "ordinal_1 = pd.Series(random_ints)"
   ]
  },
  {
   "cell_type": "code",
   "execution_count": 19,
   "metadata": {},
   "outputs": [],
   "source": [
    "ordinal_1[random_ints > 0] = 'strongly disagree'\n",
    "ordinal_1[random_ints > 0.2] = 'disagree'\n",
    "ordinal_1[random_ints > 0.4] = 'neither agree nor disagree'\n",
    "ordinal_1[random_ints > 0.6] = 'agree'\n",
    "ordinal_1[random_ints > 0.8] = 'strongly agree'"
   ]
  },
  {
   "cell_type": "markdown",
   "metadata": {},
   "source": [
    "### Stitch together final dataframe"
   ]
  },
  {
   "cell_type": "code",
   "execution_count": 20,
   "metadata": {},
   "outputs": [],
   "source": [
    "# Initialise final dataframe\n",
    "df = pd.DataFrame(index=datetimes_1.index)\n",
    "\n",
    "# Add datetime features\n",
    "df['datetimes_1'] = datetimes_1\n",
    "df['datetimes_2'] = datetimes_2\n",
    "\n",
    "# Add numeric features\n",
    "df['numeric_1'] = numeric_1\n",
    "df['numeric_2'] = numeric_2\n",
    "df['numeric_3'] = numeric_3"
   ]
  },
  {
   "cell_type": "code",
   "execution_count": 21,
   "metadata": {},
   "outputs": [],
   "source": [
    "# Add Boolean-like features\n",
    "df['boolean_like_1'] = boolean_like\n",
    "df['boolean_like_2'] = boolean_like_2\n",
    "df['boolean_like_3'] = boolean_like_3\n",
    "df['boolean_like_4'] = boolean_like_4"
   ]
  },
  {
   "cell_type": "code",
   "execution_count": 22,
   "metadata": {},
   "outputs": [],
   "source": [
    "# Add true Boolean features\n",
    "df['boolean'] = boolean"
   ]
  },
  {
   "cell_type": "code",
   "execution_count": 23,
   "metadata": {},
   "outputs": [],
   "source": [
    "# Add nominal features\n",
    "df['nominal'] = nominal"
   ]
  },
  {
   "cell_type": "code",
   "execution_count": 24,
   "metadata": {},
   "outputs": [],
   "source": [
    "# Add ordinal features\n",
    "df['ordinal_1'] = ordinal_1"
   ]
  },
  {
   "cell_type": "markdown",
   "metadata": {},
   "source": [
    "### Save to current directory"
   ]
  },
  {
   "cell_type": "code",
   "execution_count": 25,
   "metadata": {},
   "outputs": [],
   "source": [
    "df.to_csv(path_or_buf='dataset.csv')"
   ]
  },
  {
   "cell_type": "code",
   "execution_count": 31,
   "metadata": {},
   "outputs": [
    {
     "data": {
      "text/html": [
       "<div>\n",
       "<style scoped>\n",
       "    .dataframe tbody tr th:only-of-type {\n",
       "        vertical-align: middle;\n",
       "    }\n",
       "\n",
       "    .dataframe tbody tr th {\n",
       "        vertical-align: top;\n",
       "    }\n",
       "\n",
       "    .dataframe thead th {\n",
       "        text-align: right;\n",
       "    }\n",
       "</style>\n",
       "<table border=\"1\" class=\"dataframe\">\n",
       "  <thead>\n",
       "    <tr style=\"text-align: right;\">\n",
       "      <th></th>\n",
       "      <th>datetimes_1</th>\n",
       "      <th>datetimes_2</th>\n",
       "      <th>numeric_1</th>\n",
       "      <th>numeric_2</th>\n",
       "      <th>numeric_3</th>\n",
       "      <th>boolean_like_1</th>\n",
       "      <th>boolean_like_2</th>\n",
       "      <th>boolean_like_3</th>\n",
       "      <th>boolean_like_4</th>\n",
       "      <th>boolean</th>\n",
       "      <th>nominal</th>\n",
       "      <th>ordinal_1</th>\n",
       "    </tr>\n",
       "  </thead>\n",
       "  <tbody>\n",
       "    <tr>\n",
       "      <th>0</th>\n",
       "      <td>2019-09-25 13:55:32.331191</td>\n",
       "      <td>2002-11-27 04:14:51</td>\n",
       "      <td>46.552984</td>\n",
       "      <td>13.739006</td>\n",
       "      <td>NaN</td>\n",
       "      <td>True</td>\n",
       "      <td>true</td>\n",
       "      <td>FALSE</td>\n",
       "      <td>False</td>\n",
       "      <td>True</td>\n",
       "      <td>Dog</td>\n",
       "      <td>agree</td>\n",
       "    </tr>\n",
       "    <tr>\n",
       "      <th>1</th>\n",
       "      <td>2019-07-08 17:03:04.331191</td>\n",
       "      <td>2012-12-20 03:31:36</td>\n",
       "      <td>25.588787</td>\n",
       "      <td>NaN</td>\n",
       "      <td>NaN</td>\n",
       "      <td>False</td>\n",
       "      <td>false</td>\n",
       "      <td>TRUE</td>\n",
       "      <td>False</td>\n",
       "      <td>False</td>\n",
       "      <td>Dog</td>\n",
       "      <td>strongly agree</td>\n",
       "    </tr>\n",
       "    <tr>\n",
       "      <th>2</th>\n",
       "      <td>2019-06-18 23:49:57.331191</td>\n",
       "      <td>2008-12-10 18:12:54</td>\n",
       "      <td>25.487432</td>\n",
       "      <td>6.182592</td>\n",
       "      <td>NaN</td>\n",
       "      <td>False</td>\n",
       "      <td>true</td>\n",
       "      <td>FALSE</td>\n",
       "      <td>False</td>\n",
       "      <td>True</td>\n",
       "      <td>Dog</td>\n",
       "      <td>disagree</td>\n",
       "    </tr>\n",
       "    <tr>\n",
       "      <th>3</th>\n",
       "      <td>2019-12-13 10:48:00.331191</td>\n",
       "      <td>2000-03-21 22:02:23</td>\n",
       "      <td>4.535463</td>\n",
       "      <td>15.181189</td>\n",
       "      <td>9.776362</td>\n",
       "      <td>False</td>\n",
       "      <td>false</td>\n",
       "      <td>FALSE</td>\n",
       "      <td>TRUE</td>\n",
       "      <td>False</td>\n",
       "      <td>Dog</td>\n",
       "      <td>strongly disagree</td>\n",
       "    </tr>\n",
       "    <tr>\n",
       "      <th>4</th>\n",
       "      <td>2019-10-15 07:08:39.331191</td>\n",
       "      <td>2010-12-15 22:52:15</td>\n",
       "      <td>24.660904</td>\n",
       "      <td>1.107595</td>\n",
       "      <td>NaN</td>\n",
       "      <td>True</td>\n",
       "      <td>false</td>\n",
       "      <td>FALSE</td>\n",
       "      <td>False</td>\n",
       "      <td>False</td>\n",
       "      <td>Lizard</td>\n",
       "      <td>neither agree nor disagree</td>\n",
       "    </tr>\n",
       "    <tr>\n",
       "      <th>5</th>\n",
       "      <td>2020-03-21 00:53:35.331191</td>\n",
       "      <td>2006-12-06 13:33:33</td>\n",
       "      <td>22.562598</td>\n",
       "      <td>7.249762</td>\n",
       "      <td>NaN</td>\n",
       "      <td>True</td>\n",
       "      <td>false</td>\n",
       "      <td>FALSE</td>\n",
       "      <td>False</td>\n",
       "      <td>False</td>\n",
       "      <td>Dog</td>\n",
       "      <td>agree</td>\n",
       "    </tr>\n",
       "    <tr>\n",
       "      <th>6</th>\n",
       "      <td>2019-05-10 13:23:43.331191</td>\n",
       "      <td>2007-08-08 15:06:40</td>\n",
       "      <td>16.756842</td>\n",
       "      <td>7.094363</td>\n",
       "      <td>4.042631</td>\n",
       "      <td>True</td>\n",
       "      <td>true</td>\n",
       "      <td>TRUE</td>\n",
       "      <td>False</td>\n",
       "      <td>False</td>\n",
       "      <td>Cat</td>\n",
       "      <td>strongly agree</td>\n",
       "    </tr>\n",
       "    <tr>\n",
       "      <th>7</th>\n",
       "      <td>2020-02-10 14:27:21.331191</td>\n",
       "      <td>2002-03-27 02:41:44</td>\n",
       "      <td>25.524859</td>\n",
       "      <td>NaN</td>\n",
       "      <td>NaN</td>\n",
       "      <td>False</td>\n",
       "      <td>true</td>\n",
       "      <td>TRUE</td>\n",
       "      <td>TRUE</td>\n",
       "      <td>False</td>\n",
       "      <td>Cat</td>\n",
       "      <td>neither agree nor disagree</td>\n",
       "    </tr>\n",
       "    <tr>\n",
       "      <th>8</th>\n",
       "      <td>2020-03-01 07:40:28.331191</td>\n",
       "      <td>2000-11-21 23:35:30</td>\n",
       "      <td>22.102289</td>\n",
       "      <td>14.610025</td>\n",
       "      <td>NaN</td>\n",
       "      <td>True</td>\n",
       "      <td>true</td>\n",
       "      <td>FALSE</td>\n",
       "      <td>False</td>\n",
       "      <td>True</td>\n",
       "      <td>Lizard</td>\n",
       "      <td>strongly agree</td>\n",
       "    </tr>\n",
       "    <tr>\n",
       "      <th>9</th>\n",
       "      <td>2020-01-02 04:01:07.331191</td>\n",
       "      <td>2004-03-31 07:21:05</td>\n",
       "      <td>36.366723</td>\n",
       "      <td>1.534639</td>\n",
       "      <td>NaN</td>\n",
       "      <td>True</td>\n",
       "      <td>true</td>\n",
       "      <td>TRUE</td>\n",
       "      <td>False</td>\n",
       "      <td>False</td>\n",
       "      <td>Dog</td>\n",
       "      <td>strongly disagree</td>\n",
       "    </tr>\n",
       "    <tr>\n",
       "      <th>10</th>\n",
       "      <td>2019-05-30 06:36:50.331191</td>\n",
       "      <td>2009-08-12 19:46:01</td>\n",
       "      <td>3.662533</td>\n",
       "      <td>15.948476</td>\n",
       "      <td>NaN</td>\n",
       "      <td>True</td>\n",
       "      <td>false</td>\n",
       "      <td>FALSE</td>\n",
       "      <td>False</td>\n",
       "      <td>True</td>\n",
       "      <td>Cat</td>\n",
       "      <td>agree</td>\n",
       "    </tr>\n",
       "    <tr>\n",
       "      <th>11</th>\n",
       "      <td>2019-11-23 17:34:53.331191</td>\n",
       "      <td>2012-04-19 01:58:29</td>\n",
       "      <td>20.575577</td>\n",
       "      <td>11.604773</td>\n",
       "      <td>NaN</td>\n",
       "      <td>True</td>\n",
       "      <td>false</td>\n",
       "      <td>FALSE</td>\n",
       "      <td>False</td>\n",
       "      <td>True</td>\n",
       "      <td>Cat</td>\n",
       "      <td>strongly disagree</td>\n",
       "    </tr>\n",
       "    <tr>\n",
       "      <th>12</th>\n",
       "      <td>2019-07-28 10:16:11.331191</td>\n",
       "      <td>2010-04-14 21:19:08</td>\n",
       "      <td>7.918876</td>\n",
       "      <td>7.010902</td>\n",
       "      <td>NaN</td>\n",
       "      <td>True</td>\n",
       "      <td>true</td>\n",
       "      <td>FALSE</td>\n",
       "      <td>False</td>\n",
       "      <td>True</td>\n",
       "      <td>Cat</td>\n",
       "      <td>agree</td>\n",
       "    </tr>\n",
       "    <tr>\n",
       "      <th>13</th>\n",
       "      <td>2019-08-17 03:29:18.331191</td>\n",
       "      <td>2004-12-01 08:54:12</td>\n",
       "      <td>29.737347</td>\n",
       "      <td>5.606612</td>\n",
       "      <td>NaN</td>\n",
       "      <td>False</td>\n",
       "      <td>false</td>\n",
       "      <td>FALSE</td>\n",
       "      <td>TRUE</td>\n",
       "      <td>True</td>\n",
       "      <td>Cat</td>\n",
       "      <td>disagree</td>\n",
       "    </tr>\n",
       "    <tr>\n",
       "      <th>14</th>\n",
       "      <td>2020-01-21 21:14:14.331191</td>\n",
       "      <td>2008-04-09 16:39:47</td>\n",
       "      <td>48.783889</td>\n",
       "      <td>4.740525</td>\n",
       "      <td>NaN</td>\n",
       "      <td>False</td>\n",
       "      <td>true</td>\n",
       "      <td>FALSE</td>\n",
       "      <td>False</td>\n",
       "      <td>True</td>\n",
       "      <td>Lizard</td>\n",
       "      <td>strongly agree</td>\n",
       "    </tr>\n",
       "    <tr>\n",
       "      <th>15</th>\n",
       "      <td>2019-11-04 00:21:46.331191</td>\n",
       "      <td>2003-07-30 05:47:58</td>\n",
       "      <td>18.758236</td>\n",
       "      <td>13.974255</td>\n",
       "      <td>NaN</td>\n",
       "      <td>False</td>\n",
       "      <td>true</td>\n",
       "      <td>FALSE</td>\n",
       "      <td>False</td>\n",
       "      <td>False</td>\n",
       "      <td>Cat</td>\n",
       "      <td>disagree</td>\n",
       "    </tr>\n",
       "    <tr>\n",
       "      <th>16</th>\n",
       "      <td>2020-04-09 18:06:42.331191</td>\n",
       "      <td>2001-07-25 01:08:37</td>\n",
       "      <td>23.064890</td>\n",
       "      <td>NaN</td>\n",
       "      <td>NaN</td>\n",
       "      <td>True</td>\n",
       "      <td>false</td>\n",
       "      <td>TRUE</td>\n",
       "      <td>False</td>\n",
       "      <td>False</td>\n",
       "      <td>Cat</td>\n",
       "      <td>strongly agree</td>\n",
       "    </tr>\n",
       "    <tr>\n",
       "      <th>17</th>\n",
       "      <td>2019-09-05 20:42:25.331191</td>\n",
       "      <td>2011-08-18 00:25:22</td>\n",
       "      <td>41.133630</td>\n",
       "      <td>15.553830</td>\n",
       "      <td>8.045553</td>\n",
       "      <td>False</td>\n",
       "      <td>false</td>\n",
       "      <td>TRUE</td>\n",
       "      <td>False</td>\n",
       "      <td>False</td>\n",
       "      <td>Lizard</td>\n",
       "      <td>neither agree nor disagree</td>\n",
       "    </tr>\n",
       "    <tr>\n",
       "      <th>18</th>\n",
       "      <td>2020-04-29 11:19:49.331191</td>\n",
       "      <td>2006-04-05 12:00:26</td>\n",
       "      <td>41.328234</td>\n",
       "      <td>18.139630</td>\n",
       "      <td>NaN</td>\n",
       "      <td>True</td>\n",
       "      <td>false</td>\n",
       "      <td>TRUE</td>\n",
       "      <td>TRUE</td>\n",
       "      <td>False</td>\n",
       "      <td>Cat</td>\n",
       "      <td>strongly agree</td>\n",
       "    </tr>\n",
       "    <tr>\n",
       "      <th>19</th>\n",
       "      <td>2020-05-19 04:32:56.331191</td>\n",
       "      <td>2005-08-03 10:27:19</td>\n",
       "      <td>15.563625</td>\n",
       "      <td>NaN</td>\n",
       "      <td>NaN</td>\n",
       "      <td>True</td>\n",
       "      <td>false</td>\n",
       "      <td>TRUE</td>\n",
       "      <td>False</td>\n",
       "      <td>False</td>\n",
       "      <td>Cat</td>\n",
       "      <td>disagree</td>\n",
       "    </tr>\n",
       "  </tbody>\n",
       "</table>\n",
       "</div>"
      ],
      "text/plain": [
       "                  datetimes_1         datetimes_2  numeric_1  numeric_2  \\\n",
       "0  2019-09-25 13:55:32.331191 2002-11-27 04:14:51  46.552984  13.739006   \n",
       "1  2019-07-08 17:03:04.331191 2012-12-20 03:31:36  25.588787        NaN   \n",
       "2  2019-06-18 23:49:57.331191 2008-12-10 18:12:54  25.487432   6.182592   \n",
       "3  2019-12-13 10:48:00.331191 2000-03-21 22:02:23   4.535463  15.181189   \n",
       "4  2019-10-15 07:08:39.331191 2010-12-15 22:52:15  24.660904   1.107595   \n",
       "5  2020-03-21 00:53:35.331191 2006-12-06 13:33:33  22.562598   7.249762   \n",
       "6  2019-05-10 13:23:43.331191 2007-08-08 15:06:40  16.756842   7.094363   \n",
       "7  2020-02-10 14:27:21.331191 2002-03-27 02:41:44  25.524859        NaN   \n",
       "8  2020-03-01 07:40:28.331191 2000-11-21 23:35:30  22.102289  14.610025   \n",
       "9  2020-01-02 04:01:07.331191 2004-03-31 07:21:05  36.366723   1.534639   \n",
       "10 2019-05-30 06:36:50.331191 2009-08-12 19:46:01   3.662533  15.948476   \n",
       "11 2019-11-23 17:34:53.331191 2012-04-19 01:58:29  20.575577  11.604773   \n",
       "12 2019-07-28 10:16:11.331191 2010-04-14 21:19:08   7.918876   7.010902   \n",
       "13 2019-08-17 03:29:18.331191 2004-12-01 08:54:12  29.737347   5.606612   \n",
       "14 2020-01-21 21:14:14.331191 2008-04-09 16:39:47  48.783889   4.740525   \n",
       "15 2019-11-04 00:21:46.331191 2003-07-30 05:47:58  18.758236  13.974255   \n",
       "16 2020-04-09 18:06:42.331191 2001-07-25 01:08:37  23.064890        NaN   \n",
       "17 2019-09-05 20:42:25.331191 2011-08-18 00:25:22  41.133630  15.553830   \n",
       "18 2020-04-29 11:19:49.331191 2006-04-05 12:00:26  41.328234  18.139630   \n",
       "19 2020-05-19 04:32:56.331191 2005-08-03 10:27:19  15.563625        NaN   \n",
       "\n",
       "    numeric_3 boolean_like_1 boolean_like_2 boolean_like_3 boolean_like_4  \\\n",
       "0         NaN           True           true          FALSE          False   \n",
       "1         NaN          False          false           TRUE          False   \n",
       "2         NaN          False           true          FALSE          False   \n",
       "3    9.776362          False          false          FALSE           TRUE   \n",
       "4         NaN           True          false          FALSE          False   \n",
       "5         NaN           True          false          FALSE          False   \n",
       "6    4.042631           True           true           TRUE          False   \n",
       "7         NaN          False           true           TRUE           TRUE   \n",
       "8         NaN           True           true          FALSE          False   \n",
       "9         NaN           True           true           TRUE          False   \n",
       "10        NaN           True          false          FALSE          False   \n",
       "11        NaN           True          false          FALSE          False   \n",
       "12        NaN           True           true          FALSE          False   \n",
       "13        NaN          False          false          FALSE           TRUE   \n",
       "14        NaN          False           true          FALSE          False   \n",
       "15        NaN          False           true          FALSE          False   \n",
       "16        NaN           True          false           TRUE          False   \n",
       "17   8.045553          False          false           TRUE          False   \n",
       "18        NaN           True          false           TRUE           TRUE   \n",
       "19        NaN           True          false           TRUE          False   \n",
       "\n",
       "   boolean nominal                   ordinal_1  \n",
       "0     True     Dog                       agree  \n",
       "1    False     Dog              strongly agree  \n",
       "2     True     Dog                    disagree  \n",
       "3    False     Dog           strongly disagree  \n",
       "4    False  Lizard  neither agree nor disagree  \n",
       "5    False     Dog                       agree  \n",
       "6    False     Cat              strongly agree  \n",
       "7    False     Cat  neither agree nor disagree  \n",
       "8     True  Lizard              strongly agree  \n",
       "9    False     Dog           strongly disagree  \n",
       "10    True     Cat                       agree  \n",
       "11    True     Cat           strongly disagree  \n",
       "12    True     Cat                       agree  \n",
       "13    True     Cat                    disagree  \n",
       "14    True  Lizard              strongly agree  \n",
       "15   False     Cat                    disagree  \n",
       "16   False     Cat              strongly agree  \n",
       "17   False  Lizard  neither agree nor disagree  \n",
       "18   False     Cat              strongly agree  \n",
       "19   False     Cat                    disagree  "
      ]
     },
     "execution_count": 31,
     "metadata": {},
     "output_type": "execute_result"
    }
   ],
   "source": [
    "df"
   ]
  },
  {
   "cell_type": "code",
   "execution_count": null,
   "metadata": {},
   "outputs": [],
   "source": []
  }
 ],
 "metadata": {
  "kernelspec": {
   "display_name": "Python (dsc_env)",
   "language": "python",
   "name": "dsc_env"
  },
  "language_info": {
   "codemirror_mode": {
    "name": "ipython",
    "version": 3
   },
   "file_extension": ".py",
   "mimetype": "text/x-python",
   "name": "python",
   "nbconvert_exporter": "python",
   "pygments_lexer": "ipython3",
   "version": "3.6.5"
  }
 },
 "nbformat": 4,
 "nbformat_minor": 2
}
